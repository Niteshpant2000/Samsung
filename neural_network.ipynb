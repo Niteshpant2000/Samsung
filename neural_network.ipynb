{
 "cells": [
  {
   "cell_type": "code",
   "execution_count": 338,
   "metadata": {},
   "outputs": [],
   "source": [
    "import numpy as np\n",
    "from sklearn.model_selection import train_test_split"
   ]
  },
  {
   "cell_type": "code",
   "execution_count": 339,
   "metadata": {},
   "outputs": [],
   "source": [
    "encoded_data=np.loadtxt('./encoded_input_noise/encodedInputNoise_2_1_2.txt',delimiter=',')\n",
    "msg_data=np.loadtxt('./msg/msg_2_1_2.txt',delimiter=',')\n"
   ]
  },
  {
   "cell_type": "code",
   "execution_count": 340,
   "metadata": {},
   "outputs": [],
   "source": [
    "encoded_data_train,encoded_data_test,msg_data_train,msg_data_test=train_test_split(encoded_data,msg_data,test_size=0.33,random_state=42)"
   ]
  },
  {
   "cell_type": "code",
   "execution_count": 341,
   "metadata": {},
   "outputs": [],
   "source": [
    "msg_data_bpsk_train=1-2*msg_data_train\n",
    "msg_data_bpsk_test=1-2*msg_data_test"
   ]
  },
  {
   "cell_type": "code",
   "execution_count": 342,
   "metadata": {},
   "outputs": [],
   "source": [
    "import tensorflow as tf\n",
    "import matplotlib.pyplot as plt\n",
    "from tensorflow import keras\n",
    "from tensorflow.keras import layers"
   ]
  },
  {
   "cell_type": "code",
   "execution_count": 343,
   "metadata": {},
   "outputs": [],
   "source": [
    "data_in=keras.Input(shape=(136,))"
   ]
  },
  {
   "cell_type": "code",
   "execution_count": 344,
   "metadata": {},
   "outputs": [],
   "source": [
    "x_dense=layers.Dense(70,activation='tanh')(data_in)\n",
    "data_out=layers.Dense(44,activation='tanh')(x_dense)"
   ]
  },
  {
   "cell_type": "code",
   "execution_count": 345,
   "metadata": {},
   "outputs": [],
   "source": [
    "model=keras.Model(inputs=data_in,outputs=data_out)"
   ]
  },
  {
   "cell_type": "code",
   "execution_count": 346,
   "metadata": {},
   "outputs": [],
   "source": [
    "model.compile(optimizer=\"adam\",loss='hinge')"
   ]
  },
  {
   "cell_type": "code",
   "execution_count": 347,
   "metadata": {},
   "outputs": [
    {
     "name": "stdout",
     "output_type": "stream",
     "text": [
      "(40200, 136) : (40200, 44)\n"
     ]
    }
   ],
   "source": [
    "print(encoded_data_train.shape,\":\",msg_data_train.shape)"
   ]
  },
  {
   "cell_type": "code",
   "execution_count": 348,
   "metadata": {},
   "outputs": [
    {
     "name": "stdout",
     "output_type": "stream",
     "text": [
      "Epoch 1/10\n",
      "1257/1257 [==============================] - 3s 2ms/step - loss: 0.4460\n",
      "Epoch 2/10\n",
      "1257/1257 [==============================] - 2s 1ms/step - loss: 0.2577\n",
      "Epoch 3/10\n",
      "1257/1257 [==============================] - 2s 1ms/step - loss: 0.2341\n",
      "Epoch 4/10\n",
      "1257/1257 [==============================] - 2s 1ms/step - loss: 0.2212\n",
      "Epoch 5/10\n",
      "1257/1257 [==============================] - 2s 1ms/step - loss: 0.2127\n",
      "Epoch 6/10\n",
      "1257/1257 [==============================] - 2s 1ms/step - loss: 0.2062\n",
      "Epoch 7/10\n",
      "1257/1257 [==============================] - 2s 1ms/step - loss: 0.2016\n",
      "Epoch 8/10\n",
      "1257/1257 [==============================] - 2s 1ms/step - loss: 0.1977\n",
      "Epoch 9/10\n",
      "1257/1257 [==============================] - 2s 1ms/step - loss: 0.1948\n",
      "Epoch 10/10\n",
      "1257/1257 [==============================] - 2s 1ms/step - loss: 0.1924\n"
     ]
    }
   ],
   "source": [
    "history=model.fit(encoded_data_train,msg_data_bpsk_train,epochs=10)"
   ]
  },
  {
   "cell_type": "code",
   "execution_count": 349,
   "metadata": {},
   "outputs": [
    {
     "name": "stdout",
     "output_type": "stream",
     "text": [
      "{'loss': [0.44602397084236145, 0.25772780179977417, 0.2340850681066513, 0.22116325795650482, 0.2127111256122589, 0.20620034635066986, 0.20159225165843964, 0.19769258797168732, 0.19479334354400635, 0.19238166511058807]}\n"
     ]
    }
   ],
   "source": [
    "print(history.history)"
   ]
  },
  {
   "cell_type": "code",
   "execution_count": 350,
   "metadata": {},
   "outputs": [
    {
     "name": "stdout",
     "output_type": "stream",
     "text": [
      "198/198 [==============================] - 0s 1ms/step - loss: 0.1978\n"
     ]
    },
    {
     "data": {
      "text/plain": [
       "0.19781775772571564"
      ]
     },
     "execution_count": 350,
     "metadata": {},
     "output_type": "execute_result"
    }
   ],
   "source": [
    "model.evaluate(encoded_data_test,msg_data_bpsk_test,batch_size=100)"
   ]
  },
  {
   "cell_type": "code",
   "execution_count": 358,
   "metadata": {},
   "outputs": [],
   "source": [
    "predicted=model.predict(encoded_data_test)"
   ]
  },
  {
   "cell_type": "code",
   "execution_count": 359,
   "metadata": {},
   "outputs": [
    {
     "data": {
      "text/plain": [
       "array([[ 0.99999577,  0.8059409 ,  0.99954224, ...,  1.        ,\n",
       "         0.99883896, -0.99750334],\n",
       "       [ 0.99942833, -0.39342064, -0.9863648 , ...,  1.        ,\n",
       "         0.9999697 , -0.9999829 ],\n",
       "       [ 0.9999938 ,  0.8476758 , -0.9989404 , ...,  0.99989015,\n",
       "        -1.        , -1.        ],\n",
       "       ...,\n",
       "       [ 0.06045552, -0.9710391 , -0.9973756 , ...,  0.2975515 ,\n",
       "        -0.99998546,  0.99967885],\n",
       "       [ 1.        ,  0.9999997 , -0.9999434 , ..., -0.99676317,\n",
       "         0.8652765 ,  0.65484655],\n",
       "       [-0.73541266,  0.9975856 ,  0.9999943 , ...,  0.9044324 ,\n",
       "        -0.99975836,  0.9950652 ]], dtype=float32)"
      ]
     },
     "execution_count": 359,
     "metadata": {},
     "output_type": "execute_result"
    }
   ],
   "source": [
    "predicted"
   ]
  },
  {
   "cell_type": "code",
   "execution_count": 360,
   "metadata": {},
   "outputs": [],
   "source": [
    "predicted=np.where(predicted<0,-1,1)\n",
    "            \n",
    "\n",
    "\n",
    "\n",
    "\n",
    "\n",
    "\n",
    "\n"
   ]
  },
  {
   "cell_type": "code",
   "execution_count": 361,
   "metadata": {},
   "outputs": [
    {
     "data": {
      "text/plain": [
       "array([[ 1,  1,  1, ...,  1,  1, -1],\n",
       "       [ 1, -1, -1, ...,  1,  1, -1],\n",
       "       [ 1,  1, -1, ...,  1, -1, -1],\n",
       "       ...,\n",
       "       [ 1, -1, -1, ...,  1, -1,  1],\n",
       "       [ 1,  1, -1, ..., -1,  1,  1],\n",
       "       [-1,  1,  1, ...,  1, -1,  1]])"
      ]
     },
     "execution_count": 361,
     "metadata": {},
     "output_type": "execute_result"
    }
   ],
   "source": [
    "predicted"
   ]
  },
  {
   "cell_type": "code",
   "execution_count": 362,
   "metadata": {},
   "outputs": [
    {
     "data": {
      "text/plain": [
       "array([[ 1.,  1.,  1., ...,  1.,  1., -1.],\n",
       "       [ 1., -1., -1., ...,  1.,  1., -1.],\n",
       "       [ 1.,  1., -1., ...,  1., -1., -1.],\n",
       "       ...,\n",
       "       [ 1., -1., -1., ..., -1., -1.,  1.],\n",
       "       [ 1.,  1., -1., ..., -1.,  1., -1.],\n",
       "       [-1.,  1.,  1., ...,  1., -1.,  1.]])"
      ]
     },
     "execution_count": 362,
     "metadata": {},
     "output_type": "execute_result"
    }
   ],
   "source": [
    "msg_data_bpsk_test"
   ]
  },
  {
   "cell_type": "code",
   "execution_count": 356,
   "metadata": {},
   "outputs": [],
   "source": [
    "error=0\n",
    "for i in range(0,len(predicted)):\n",
    "    for j in range(0,len(predicted[i])):\n",
    "        if(predicted[i][j]!=msg_data_bpsk_test[i][j]):\n",
    "            error+=1\n",
    "total_bits=len(predicted)*len(predicted[0])\n",
    "ber=error/total_bits"
   ]
  },
  {
   "cell_type": "code",
   "execution_count": 357,
   "metadata": {},
   "outputs": [
    {
     "data": {
      "text/plain": [
       "0.08910812672176309"
      ]
     },
     "execution_count": 357,
     "metadata": {},
     "output_type": "execute_result"
    }
   ],
   "source": [
    "ber"
   ]
  },
  {
   "cell_type": "code",
   "execution_count": 405,
   "metadata": {},
   "outputs": [
    {
     "name": "stdout",
     "output_type": "stream",
     "text": [
      "Epoch 1/10\n",
      "1257/1257 [==============================] - 1s 797us/step - loss: 0.4846\n",
      "Epoch 2/10\n",
      "1257/1257 [==============================] - 1s 803us/step - loss: 0.3035\n",
      "Epoch 3/10\n",
      "1257/1257 [==============================] - 1s 780us/step - loss: 0.2809\n",
      "Epoch 4/10\n",
      "1257/1257 [==============================] - 1s 786us/step - loss: 0.2689\n",
      "Epoch 5/10\n",
      "1257/1257 [==============================] - 1s 787us/step - loss: 0.2607\n",
      "Epoch 6/10\n",
      "1257/1257 [==============================] - 1s 780us/step - loss: 0.2546\n",
      "Epoch 7/10\n",
      "1257/1257 [==============================] - 1s 819us/step - loss: 0.2500\n",
      "Epoch 8/10\n",
      "1257/1257 [==============================] - 1s 784us/step - loss: 0.2463\n",
      "Epoch 9/10\n",
      "1257/1257 [==============================] - 1s 776us/step - loss: 0.2434\n",
      "Epoch 10/10\n",
      "1257/1257 [==============================] - 1s 777us/step - loss: 0.2410\n",
      "871200 : 99217\n",
      "0.1138854453627181\n"
     ]
    }
   ],
   "source": [
    "def data_prep():\n",
    "    encoded_data=np.loadtxt('./encoded_input_noise/encodedInputNoise_1_1_2.txt',delimiter=',')\n",
    "    msg_data=np.loadtxt('./msg/msg_1_1_2.txt',delimiter=',')\n",
    "    encoded_data_train,encoded_data_test,msg_data_train,msg_data_test=train_test_split(encoded_data,msg_data,test_size=0.33,random_state=42)\n",
    "    msg_data_bpsk_train=1-2*msg_data_train\n",
    "    msg_data_bpsk_test=1-2*msg_data_test\n",
    "    return [encoded_data_train,encoded_data_test,msg_data_bpsk_train,msg_data_bpsk_test]\n",
    "    \n",
    "def model():\n",
    "    data_in=keras.Input(shape=(136,))\n",
    "    x_dense=layers.Dense(70,activation='tanh')(data_in)\n",
    "    data_out=layers.Dense(44,activation='tanh')(x_dense)\n",
    "    Neural_Network=keras.Model(inputs=data_in,outputs=data_out)\n",
    "    Neural_Network.compile(optimizer='adam',loss='hinge')\n",
    "    \n",
    "    data=data_prep()\n",
    "    training_data=data[0]\n",
    "    training_data_labels=data[2]\n",
    "    trained_nn=Neural_Network.fit(training_data,training_data_labels,epochs=10)\n",
    "    \n",
    "    #predictions\n",
    "    test_data=data[1]\n",
    "    test_data_labels=data[3]\n",
    "\n",
    "    predictions=Neural_Network.predict(test_data)\n",
    "    predictions=np.where(predictions<0,-1,1)\n",
    "\n",
    "    true=sum(np.ravel(predictions==test_data_labels))\n",
    "    \n",
    "    total_bits=len(predictions)*len(predictions[0])\n",
    "\n",
    "    Ber=(total_bits-true)/total_bits\n",
    "    print(total_bits,\":\",total_bits-true)\n",
    "    return Ber\n",
    "\n",
    "    \n",
    "    \n",
    "    \n",
    "print(model())\n",
    "    \n"
   ]
  },
  {
   "cell_type": "code",
   "execution_count": 388,
   "metadata": {},
   "outputs": [
    {
     "data": {
      "text/plain": [
       "2"
      ]
     },
     "execution_count": 388,
     "metadata": {},
     "output_type": "execute_result"
    }
   ],
   "source": [
    "a=[[1,2,3],[4,5,6]]\n",
    "b=[[1,5,6],[9,4,6]]\n",
    "a=np.asmatrix(a)\n",
    "b=np.asmatrix(b)\n",
    "c=a==b\n"
   ]
  },
  {
   "cell_type": "code",
   "execution_count": 375,
   "metadata": {},
   "outputs": [
    {
     "data": {
      "text/plain": [
       "matrix([[1, 2, 3],\n",
       "        [4, 5, 6]])"
      ]
     },
     "execution_count": 375,
     "metadata": {},
     "output_type": "execute_result"
    }
   ],
   "source": [
    "a"
   ]
  },
  {
   "cell_type": "code",
   "execution_count": 368,
   "metadata": {},
   "outputs": [
    {
     "data": {
      "text/plain": [
       "1"
      ]
     },
     "execution_count": 368,
     "metadata": {},
     "output_type": "execute_result"
    }
   ],
   "source": [
    "b=np.asarray([1,3,5,6])\n",
    "sum(a==b)"
   ]
  },
  {
   "cell_type": "code",
   "execution_count": null,
   "metadata": {},
   "outputs": [],
   "source": []
  }
 ],
 "metadata": {
  "interpreter": {
   "hash": "dadcabbfae10a2c4c26ac0db6eb179f3513006b697368abb36535c508e168f02"
  },
  "kernelspec": {
   "display_name": "Python 3.9.7 64-bit (windows store)",
   "name": "python3"
  },
  "language_info": {
   "codemirror_mode": {
    "name": "ipython",
    "version": 3
   },
   "file_extension": ".py",
   "mimetype": "text/x-python",
   "name": "python",
   "nbconvert_exporter": "python",
   "pygments_lexer": "ipython3",
   "version": "3.9.7"
  },
  "orig_nbformat": 4
 },
 "nbformat": 4,
 "nbformat_minor": 2
}
